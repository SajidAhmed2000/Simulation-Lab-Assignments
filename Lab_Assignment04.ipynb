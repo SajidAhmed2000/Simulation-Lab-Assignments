{
  "nbformat": 4,
  "nbformat_minor": 0,
  "metadata": {
    "colab": {
      "provenance": []
    },
    "kernelspec": {
      "name": "python3",
      "display_name": "Python 3"
    },
    "language_info": {
      "name": "python"
    }
  },
  "cells": [
    {
      "cell_type": "code",
      "execution_count": 1,
      "metadata": {
        "id": "0caJJjGbVN_s"
      },
      "outputs": [],
      "source": [
        "import numpy as np\n",
        "from scipy import stats"
      ]
    },
    {
      "cell_type": "code",
      "source": [
        "np.random.seed(0)\n",
        "\n",
        "\n",
        "mu1, sigma1 = 0, 1      # Mean and standard deviation for the first sample\n",
        "mu2, sigma2 = 1, 1.2    # Mean and standard deviation for the second sample\n",
        "\n",
        "\n",
        "sample1 = np.random.normal(mu1, sigma1, 50)\n",
        "sample2 = np.random.normal(mu2, sigma2, 50)\n",
        "\n",
        "\n",
        "t_stat, p_value = stats.ttest_ind(sample1, sample2)\n",
        "\n",
        "\n",
        "alpha = 0.05\n",
        "if p_value < alpha:\n",
        "    conclusion = \"reject the null hypothesis (means are significantly different)\"\n",
        "else:\n",
        "    conclusion = \"fail to reject the null hypothesis (no significant difference in means)\"\n",
        "\n",
        "\n",
        "print(\"Sample 1 values:\", sample1)\n",
        "print(\"Sample 2 values:\", sample2)\n",
        "print(\"\\nT-statistic:\", t_stat)\n",
        "print(\"P-value:\", p_value)\n",
        "print(\"\\nConclusion:\", conclusion)"
      ],
      "metadata": {
        "colab": {
          "base_uri": "https://localhost:8080/"
        },
        "id": "RkRHJcCoVS_B",
        "outputId": "8c89d887-791a-4d93-8aff-023477975cda"
      },
      "execution_count": 2,
      "outputs": [
        {
          "output_type": "stream",
          "name": "stdout",
          "text": [
            "Sample 1 values: [ 1.76405235  0.40015721  0.97873798  2.2408932   1.86755799 -0.97727788\n",
            "  0.95008842 -0.15135721 -0.10321885  0.4105985   0.14404357  1.45427351\n",
            "  0.76103773  0.12167502  0.44386323  0.33367433  1.49407907 -0.20515826\n",
            "  0.3130677  -0.85409574 -2.55298982  0.6536186   0.8644362  -0.74216502\n",
            "  2.26975462 -1.45436567  0.04575852 -0.18718385  1.53277921  1.46935877\n",
            "  0.15494743  0.37816252 -0.88778575 -1.98079647 -0.34791215  0.15634897\n",
            "  1.23029068  1.20237985 -0.38732682 -0.30230275 -1.04855297 -1.42001794\n",
            " -1.70627019  1.9507754  -0.50965218 -0.4380743  -1.25279536  0.77749036\n",
            " -1.61389785 -0.21274028]\n",
            "Sample 2 values: [-0.07455987  1.464283    0.38703383 -0.41675862  0.96618133  1.51399824\n",
            "  1.07982067  1.36296628  0.23881349  0.5647106   0.19304746  0.56853621\n",
            "  0.02422446 -1.07153912  1.21291137  0.51786288 -0.95623802  1.55533871\n",
            " -0.08875804  1.06233447  1.87490867  1.15477949  2.36728082 -0.48179098\n",
            "  1.48280997  0.17822789 -0.04495658  0.3053804   0.62613696  1.06739841\n",
            " -0.39817981  2.08099178  1.55879493 -0.84349242  2.78590263  3.27506701\n",
            "  2.41453549  0.7840902  -0.28490315  2.26534207  0.51618766  2.46693408\n",
            "  1.24992997  2.17196684  1.42763968  1.8478878   1.01260002  3.14304459\n",
            "  1.15229451  1.48238724]\n",
            "\n",
            "T-statistic: -3.810181450008789\n",
            "P-value: 0.00024244288415783123\n",
            "\n",
            "Conclusion: reject the null hypothesis (means are significantly different)\n"
          ]
        }
      ]
    }
  ]
}