{
  "nbformat": 4,
  "nbformat_minor": 0,
  "metadata": {
    "colab": {
      "provenance": []
    },
    "kernelspec": {
      "name": "python3",
      "display_name": "Python 3"
    },
    "language_info": {
      "name": "python"
    }
  },
  "cells": [
    {
      "cell_type": "code",
      "execution_count": 1,
      "metadata": {
        "colab": {
          "base_uri": "https://localhost:8080/"
        },
        "collapsed": true,
        "id": "o1KQSbxXvW-k",
        "outputId": "cda79c23-c574-46d2-8396-a0bcb6cf55c2"
      },
      "outputs": [
        {
          "output_type": "stream",
          "name": "stdout",
          "text": [
            "[[29  4 42]\n",
            " [22 39  5]\n",
            " [16  8 16]]\n"
          ]
        }
      ],
      "source": [
        "import numpy as np\n",
        "x = np.random.randint(1,51,size=(3,3))\n",
        "print(x)"
      ]
    },
    {
      "cell_type": "code",
      "source": [
        "np.random.seed(10)\n",
        "x = np.random.randint(1,51,size=(3,3))\n",
        "print(x)"
      ],
      "metadata": {
        "colab": {
          "base_uri": "https://localhost:8080/"
        },
        "collapsed": true,
        "id": "a-K213aPv9wF",
        "outputId": "8718bb1c-a5e7-464b-e81b-61b1e585b6a1"
      },
      "execution_count": 2,
      "outputs": [
        {
          "output_type": "stream",
          "name": "stdout",
          "text": [
            "[[10 37 16]\n",
            " [ 1 50 29]\n",
            " [26 30 49]]\n"
          ]
        }
      ]
    },
    {
      "cell_type": "code",
      "source": [
        "x = np.random.randint(1,51,size=(3,3))\n",
        "print(x)"
      ],
      "metadata": {
        "colab": {
          "base_uri": "https://localhost:8080/"
        },
        "collapsed": true,
        "id": "U_OPaxxTwMfz",
        "outputId": "43866048-98e8-4f00-86c3-43dcc2bbfb97"
      },
      "execution_count": 3,
      "outputs": [
        {
          "output_type": "stream",
          "name": "stdout",
          "text": [
            "[[30 50  9]\n",
            " [10  1 43]\n",
            " [41 37 17]]\n"
          ]
        }
      ]
    }
  ]
}